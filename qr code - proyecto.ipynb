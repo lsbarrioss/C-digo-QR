{
 "cells": [
  {
   "cell_type": "code",
   "execution_count": 3,
   "metadata": {},
   "outputs": [
    {
     "name": "stdout",
     "output_type": "stream",
     "text": [
      "Requirement already satisfied: qrcode[pil] in e:\\programacion\\lib\\site-packages (7.4.2)\n",
      "Requirement already satisfied: typing-extensions in e:\\programacion\\lib\\site-packages (from qrcode[pil]) (4.12.2)\n",
      "Requirement already satisfied: pypng in e:\\programacion\\lib\\site-packages (from qrcode[pil]) (0.20220715.0)\n",
      "Requirement already satisfied: colorama in c:\\users\\laura\\appdata\\roaming\\python\\python312\\site-packages (from qrcode[pil]) (0.4.6)\n",
      "Requirement already satisfied: pillow>=9.1.0 in e:\\programacion\\lib\\site-packages (from qrcode[pil]) (10.4.0)\n",
      "Note: you may need to restart the kernel to use updated packages.\n"
     ]
    }
   ],
   "source": [
    "pip install qrcode[pil]"
   ]
  },
  {
   "cell_type": "code",
   "execution_count": 2,
   "metadata": {},
   "outputs": [
    {
     "name": "stdout",
     "output_type": "stream",
     "text": [
      "Código QR generado y guardado como 'codigo_qr.png'\n"
     ]
    }
   ],
   "source": [
    "import qrcode\n",
    "\n",
    "# Función para generar el código QR\n",
    "def generar_qr(datos):\n",
    "    # Verificar si los datos no están vacíos\n",
    "    if datos:\n",
    "        # Crear el código QR\n",
    "        qr = qrcode.make(datos)\n",
    "        # Guardar la imagen del QR\n",
    "        qr.save(\"codigo_qr.png\")\n",
    "        print(\"Código QR generado y guardado como 'codigo_qr.png'\")\n",
    "    else:\n",
    "        print(\"Error: No se proporcionaron datos para generar el código QR.\")\n",
    "\n",
    "# Solicitar datos al usuario\n",
    "datos_usuario = input(\"Introduce los datos para el código QR: \")\n",
    "\n",
    "# Llamar a la función para generar el código QR\n",
    "generar_qr(datos_usuario)"
   ]
  }
 ],
 "metadata": {
  "kernelspec": {
   "display_name": "Python 3",
   "language": "python",
   "name": "python3"
  },
  "language_info": {
   "codemirror_mode": {
    "name": "ipython",
    "version": 3
   },
   "file_extension": ".py",
   "mimetype": "text/x-python",
   "name": "python",
   "nbconvert_exporter": "python",
   "pygments_lexer": "ipython3",
   "version": "3.12.5"
  }
 },
 "nbformat": 4,
 "nbformat_minor": 2
}
